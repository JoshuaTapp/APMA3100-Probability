{
 "cells": [
  {
   "cell_type": "markdown",
   "id": "relative-asset",
   "metadata": {},
   "source": [
    "# APMA 3100 Probability | Project 1: Counting Methods\n",
    "*Joshua Tapp*\n",
    "\n",
    "*Section 004*\n",
    "\n",
    "###\n",
    "_A student is registering for classes for next semester. The courses she can enroll in are calculus, physics, organic chemistry, history, literature, French, and astronomy. She has room for four classes in her schedule, at the following times: 9am, 10am, 11am, 12pm. She wants to count all the possible versions of her schedule. Additionally, the student’s mother is helping her buy textbooks for her classes. Each course listed above has a specific textbook that is required with it. Therefore, a book order for the student will consist of four textbooks. Book orders are automatically listed in alphabetical order by the class subject (i.e. one book order could be astronomy, French, organic chemistry, physics). The student’s mother wants to count all the possible book orders that she could be making._\n",
    "\n",
    "#### a) \n",
    "_Make the beginnings of a carefully ordered list of all possible book orders. (Your list should include enough outcomes so that someone else can see and continue the pattern.)_"
   ]
  },
  {
   "cell_type": "markdown",
   "id": "prostate-girlfriend",
   "metadata": {},
   "source": [
    "$$ \\{(\\text{calculus, physics, organic chemistry, history}), (\\text{calculus, physics, organic chemistry, literature}), (\\text{calculus, physics, organic chemistry, french}), (\\text{calculus, physics, organic chemistry, astronomy}), (\\text{physics, organic chemistry, history, literature}), (\\text{physics, organic chemistry, history, french}), (\\text{physics, organic chemistry, history, astronomy}), (\\text{organic chemistry, history,literature, french}), (\\text{organic chemistry, history, literature, astronomy}) \\} $$"
   ]
  },
  {
   "cell_type": "markdown",
   "id": "charged-craft",
   "metadata": {},
   "source": [
    "#### b)\n",
    "_Now make the beginnings of a carefully ordered list of all the possible versions of the student’s schedule, assuming she can’t register one class for multiple slots. (Your list should include enough outcomes so that someone else can see and continue the pattern._"
   ]
  },
  {
   "cell_type": "markdown",
   "id": "acquired-piece",
   "metadata": {},
   "source": [
    "$$\\{ (\\text{calculus, physics, organic chemistry, history}), (\\text{calculus, physics, organic chemistry, literature}), (\\text{calculus, physics, organic chemistry, french}), (\\text{calculus, physics, organic chemistry, astronomy}), (\\text{calculus, physics, history, literature}), (\\text{calculus, physics, history, french}), \\ldots ,(\\text{history, literature, french, astronomy} ) \\}$$"
   ]
  },
  {
   "cell_type": "markdown",
   "id": "brutal-testament",
   "metadata": {},
   "source": [
    "#### c)\n",
    "\n",
    "_Here is a program written in Python.\n",
    "Here is the same program written in a slightly better way that takes advantage of Python’s ability to iterate through lists:\n",
    "Does this count the possible book orders, schedules, or neither? Briefly explain._"
   ]
  },
  {
   "cell_type": "markdown",
   "id": "motivated-recycling",
   "metadata": {},
   "source": [
    "\n",
    "\n",
    "This program is for possible schedules. It is only insuring that each iteration does not contain duplicate classes in the schedule. For it to count possible book orders, it would have to insure that a similar order had not been made before. That is, this is accounting for permutations, while book orders are accounting for combinations. Therefore, this one will lead to duplicate book orders.\n"
   ]
  },
  {
   "cell_type": "markdown",
   "id": "moral-squad",
   "metadata": {},
   "source": [
    "#### d)\n",
    "\n",
    "_Write a program using for loops that lists AND counts all the possible book orders. Include a pasted copy of your code. It should display all the possibilities, and it should provide a final count.\n",
    "Note 1: Consider using something like < or <= instead of !=.\n",
    "Note 2: The logic and code for this problem and in problems 2 & 3 can and should closely resemble the logic and code provided in problem 1c._"
   ]
  },
  {
   "cell_type": "code",
   "execution_count": 1,
   "id": "honey-ordinary",
   "metadata": {},
   "outputs": [
    {
     "name": "stdout",
     "output_type": "stream",
     "text": [
      "calculus, physics, chemistry, history\n",
      "calculus, physics, chemistry, literature\n",
      "calculus, physics, chemistry, french\n",
      "calculus, physics, chemistry, astronomy\n",
      "calculus, physics, history, literature\n",
      "calculus, physics, history, french\n",
      "calculus, physics, history, astronomy\n",
      "calculus, physics, literature, french\n",
      "calculus, physics, literature, astronomy\n",
      "calculus, physics, french, astronomy\n",
      "calculus, chemistry, history, literature\n",
      "calculus, chemistry, history, french\n",
      "calculus, chemistry, history, astronomy\n",
      "calculus, chemistry, literature, french\n",
      "calculus, chemistry, literature, astronomy\n",
      "calculus, chemistry, french, astronomy\n",
      "calculus, history, literature, french\n",
      "calculus, history, literature, astronomy\n",
      "calculus, history, french, astronomy\n",
      "calculus, literature, french, astronomy\n",
      "physics, chemistry, history, literature\n",
      "physics, chemistry, history, french\n",
      "physics, chemistry, history, astronomy\n",
      "physics, chemistry, literature, french\n",
      "physics, chemistry, literature, astronomy\n",
      "physics, chemistry, french, astronomy\n",
      "physics, history, literature, french\n",
      "physics, history, literature, astronomy\n",
      "physics, history, french, astronomy\n",
      "physics, literature, french, astronomy\n",
      "chemistry, history, literature, french\n",
      "chemistry, history, literature, astronomy\n",
      "chemistry, history, french, astronomy\n",
      "chemistry, literature, french, astronomy\n",
      "history, literature, french, astronomy\n",
      "Total Orders:  35\n"
     ]
    }
   ],
   "source": [
    "orders = 0\n",
    "\n",
    "books = ['calculus', 'physics', 'chemistry', 'history', 'literature', 'french', 'astronomy']\n",
    "for a, e in enumerate(books):\n",
    "    for b, f in enumerate(books):\n",
    "        if b > a:\n",
    "            for c, g in enumerate(books):\n",
    "                if c > a and c > b:\n",
    "                    for d, h in enumerate(books):\n",
    "                        if d > a and d > b and d > c:\n",
    "                            orders += 1\n",
    "                            print(books[a], books[b], books[c], books[d], sep=', ')\n",
    "print('Total Orders: ', orders)"
   ]
  },
  {
   "cell_type": "markdown",
   "id": "banner-costume",
   "metadata": {},
   "source": [
    "### Counting Passwords...\n"
   ]
  },
  {
   "cell_type": "markdown",
   "id": "adjustable-cyprus",
   "metadata": {},
   "source": [
    "#### b)\n",
    "\n",
    "_An 8-digit password is required to have three 0’s and five 1’s. You will determine how many\n",
    "unique passwords are possible._\n",
    "\n",
    "_First consider how you might notate possible outcomes in the process of listing them. For example, any of the following can represent the same outcome:_\n",
    "+ 01011101\n",
    "+ 137 (the digits are the locations of the 0’s) \n",
    "+ 24568 (the digits are the locations of the 1’s)\n",
    "\n",
    "_Write a program that lists and counts the unique passwords. Provide your code, the list of all outcomes, and the count._\n",
    "\n",
    "_Note: A working program will give you most of the credit for this section. However, you’ll get full credit if you write your program in such a way that you never actually have all of the passwords stored in an array or list or any other container object simultaneously, but rather you simply create each one, count it, and then forget it._"
   ]
  },
  {
   "cell_type": "code",
   "execution_count": 2,
   "id": "proof-seeker",
   "metadata": {},
   "outputs": [
    {
     "name": "stdout",
     "output_type": "stream",
     "text": [
      "00011111\n",
      "00101111\n",
      "00110111\n",
      "00111011\n",
      "00111101\n",
      "00111110\n",
      "01001111\n",
      "01010111\n",
      "01011011\n",
      "01011101\n",
      "01011110\n",
      "01100111\n",
      "01101011\n",
      "01101101\n",
      "01101110\n",
      "01110011\n",
      "01110101\n",
      "01110110\n",
      "01111001\n",
      "01111010\n",
      "01111100\n",
      "10001111\n",
      "10010111\n",
      "10011011\n",
      "10011101\n",
      "10011110\n",
      "10100111\n",
      "10101011\n",
      "10101101\n",
      "10101110\n",
      "10110011\n",
      "10110101\n",
      "10110110\n",
      "10111001\n",
      "10111010\n",
      "10111100\n",
      "11000111\n",
      "11001011\n",
      "11001101\n",
      "11001110\n",
      "11010011\n",
      "11010101\n",
      "11010110\n",
      "11011001\n",
      "11011010\n",
      "11011100\n",
      "11100011\n",
      "11100101\n",
      "11100110\n",
      "11101001\n",
      "11101010\n",
      "11101100\n",
      "11110001\n",
      "11110010\n",
      "11110100\n",
      "11111000\n",
      "count = 56\n"
     ]
    }
   ],
   "source": [
    "count = 0\n",
    "a = 0\n",
    "b = 0\n",
    "c = 0\n",
    "\n",
    "for a in range(0,7): # Zero1 starts at list[0]\n",
    "    b=a+1\n",
    "    for b in range(0,7): #Zero2 starts at list[1]\n",
    "        c=b+1\n",
    "        for c in range(0,8): #Zero3 starts at list[2]\n",
    "            if(c > b and b > a):\n",
    "                password = list('11111111')\n",
    "                password[a] = '0'\n",
    "                password[b] = '0'\n",
    "                password[c] = '0'\n",
    "                print(''.join(password))\n",
    "                count += 1\n",
    "print('count =', count)    # N! / (n!N!) = 56 passwords"
   ]
  },
  {
   "cell_type": "markdown",
   "id": "fatty-situation",
   "metadata": {},
   "source": [
    "#### b)\n",
    "_Now suppose a 30-digit password is required to have thirteen 0’s and seventeen 1’s. You don’t need to list all the possible passwords, but you need to determine how many exist. You may solve this however you wish, but briefly compare your method to what you used in part (a) and justify your chosen method._\n"
   ]
  },
  {
   "cell_type": "code",
   "execution_count": 3,
   "id": "optimum-amateur",
   "metadata": {},
   "outputs": [
    {
     "name": "stdout",
     "output_type": "stream",
     "text": [
      "119759850.0 possible passwords.\n"
     ]
    }
   ],
   "source": [
    "import math \n",
    "passwordCount = math.factorial(30) / (math.factorial(13) * math.factorial(17))\n",
    "print (passwordCount, 'possible passwords.')"
   ]
  },
  {
   "cell_type": "markdown",
   "id": "talented-province",
   "metadata": {},
   "source": [
    "We know this because this problem can be broken down into a question of picking the possible places for zeros to be placed in our 30 digit password. The idea is that each of the 13 zeros can be ordered. I will display my thought process as follows,\n",
    "\n",
    "$$0_1, 0_2, 0_3, \\ldots , 0_{13}$$\n",
    "\n",
    "We now have 30 slots that each of the 13 zeros can take up once. Because the order of zeros does not matter, that is $(0_1, 0_2) = (0_2, 0_1)$ we will keep them in order at all times to prevent double counting. With this, we can see the solution appears in front of us. There are 30! possible combinations, however we have 13! ways to arrange the zeros and 17! ways to arrange the ones. This is the information we are actually seeking. What does each slot have in it so that we always have 13 zeros and 17 ones in the total 30 slots. By accounting for these, we can eliminate the passwords that do not fit our requirements or are duplicates.\n",
    "\n",
    "This method, compared to (1a), differ in that we are using the patterns of counting each unique password instead of actually counting them.\n"
   ]
  },
  {
   "cell_type": "markdown",
   "id": "urban-camel",
   "metadata": {},
   "source": [
    "### Counting passwords again... \n",
    "_An 8-digit password is required to have exactly three 0’s. The other 5 digits can be any number 1-7, but numbers 1-7 may not be repeated_"
   ]
  },
  {
   "cell_type": "markdown",
   "id": "finnish-local",
   "metadata": {},
   "source": [
    "#### a)\n",
    "\n",
    "_Again, consider different options for notating possible outcomes. (Hint: it may be easier to think of a way to notate the location of the 0’s, rather than just writing the outcomes as a list of 8 digits) Then make a list of at least 20 of the possible passwords by hand. (List the outcomes in an ordered, intentional way so as not to miss any if you kept going.)_"
   ]
  },
  {
   "cell_type": "markdown",
   "id": "bigger-elizabeth",
   "metadata": {},
   "source": [
    "If we think of this problem as two seperate problems, then this breaks down into the following.\n",
    "\n",
    "$$\\Big(\\frac{8!}{3!\\cdot5!}\\Big) * \\Big(\\frac{7!}{2!}\\Big)$$ \n",
    "\n",
    "As with problem #2, we have the possible combinations of the positions of the three zeros. For each unique zero position, we can fill the remaining five positions with a permutation of (1-7). Therefore we have the above formula, with the findings from problem #2 multiplied by ${7}\\choose{5}$.\n",
    "\n",
    "$$ (00012345),(00012346), (00012347), (00023456), (00023457), (00034567), (00045671), (00045672), (000456723), (00056712), (00056713), (00056714), (00056721), (00056723), (00056724), \\ldots , (00102345), (00102346), (00102347), \\ldots , (12345000), (12346000), (12347000), \\ldots $$"
   ]
  },
  {
   "cell_type": "markdown",
   "id": "utility-flavor",
   "metadata": {},
   "source": [
    "#### b)\n",
    "\n",
    "_Write a program that lists and counts all the possible outcomes. Provide a pasted copy of your code, the first 100 passwords that it produces, and the final count._\n",
    "_Note 1: As in #2, you’ll receive almost all of the credit here if your program works. But you’ll get full credit if you write your program in such a way that you never actually have all of the passwords stored in an array or list or any other container object simultaneously, but rather you simply create each one, count it, and then forget it.\n",
    "Note 2: Your program may take a long time to run if it displays all of the possible passwords to the screen. Remember that you only need the first 100 displayed._"
   ]
  },
  {
   "cell_type": "code",
   "execution_count": 4,
   "id": "addressed-sleeping",
   "metadata": {},
   "outputs": [
    {
     "name": "stdout",
     "output_type": "stream",
     "text": [
      "First 100 passwords in the sequence. \n",
      "0's pos. # - 7 choose 5 of (1-7)\n",
      "\n",
      "[0, 1, 2, '-', 1, 2, 3, 4, 5]\n",
      "[0, 1, 2, '-', 1, 2, 3, 4, 6]\n",
      "[0, 1, 2, '-', 1, 2, 3, 4, 7]\n",
      "[0, 1, 2, '-', 1, 2, 3, 5, 4]\n",
      "[0, 1, 2, '-', 1, 2, 3, 5, 6]\n",
      "[0, 1, 2, '-', 1, 2, 3, 5, 7]\n",
      "[0, 1, 2, '-', 1, 2, 3, 6, 4]\n",
      "[0, 1, 2, '-', 1, 2, 3, 6, 5]\n",
      "[0, 1, 2, '-', 1, 2, 3, 6, 7]\n",
      "[0, 1, 2, '-', 1, 2, 3, 7, 4]\n",
      "[0, 1, 2, '-', 1, 2, 3, 7, 5]\n",
      "[0, 1, 2, '-', 1, 2, 3, 7, 6]\n",
      "[0, 1, 2, '-', 1, 2, 4, 3, 5]\n",
      "[0, 1, 2, '-', 1, 2, 4, 3, 6]\n",
      "[0, 1, 2, '-', 1, 2, 4, 3, 7]\n",
      "[0, 1, 2, '-', 1, 2, 4, 5, 3]\n",
      "[0, 1, 2, '-', 1, 2, 4, 5, 6]\n",
      "[0, 1, 2, '-', 1, 2, 4, 5, 7]\n",
      "[0, 1, 2, '-', 1, 2, 4, 6, 3]\n",
      "[0, 1, 2, '-', 1, 2, 4, 6, 5]\n",
      "[0, 1, 2, '-', 1, 2, 4, 6, 7]\n",
      "[0, 1, 2, '-', 1, 2, 4, 7, 3]\n",
      "[0, 1, 2, '-', 1, 2, 4, 7, 5]\n",
      "[0, 1, 2, '-', 1, 2, 4, 7, 6]\n",
      "[0, 1, 2, '-', 1, 2, 5, 3, 4]\n",
      "[0, 1, 2, '-', 1, 2, 5, 3, 6]\n",
      "[0, 1, 2, '-', 1, 2, 5, 3, 7]\n",
      "[0, 1, 2, '-', 1, 2, 5, 4, 3]\n",
      "[0, 1, 2, '-', 1, 2, 5, 4, 6]\n",
      "[0, 1, 2, '-', 1, 2, 5, 4, 7]\n",
      "[0, 1, 2, '-', 1, 2, 5, 6, 3]\n",
      "[0, 1, 2, '-', 1, 2, 5, 6, 4]\n",
      "[0, 1, 2, '-', 1, 2, 5, 6, 7]\n",
      "[0, 1, 2, '-', 1, 2, 5, 7, 3]\n",
      "[0, 1, 2, '-', 1, 2, 5, 7, 4]\n",
      "[0, 1, 2, '-', 1, 2, 5, 7, 6]\n",
      "[0, 1, 2, '-', 1, 2, 6, 3, 4]\n",
      "[0, 1, 2, '-', 1, 2, 6, 3, 5]\n",
      "[0, 1, 2, '-', 1, 2, 6, 3, 7]\n",
      "[0, 1, 2, '-', 1, 2, 6, 4, 3]\n",
      "[0, 1, 2, '-', 1, 2, 6, 4, 5]\n",
      "[0, 1, 2, '-', 1, 2, 6, 4, 7]\n",
      "[0, 1, 2, '-', 1, 2, 6, 5, 3]\n",
      "[0, 1, 2, '-', 1, 2, 6, 5, 4]\n",
      "[0, 1, 2, '-', 1, 2, 6, 5, 7]\n",
      "[0, 1, 2, '-', 1, 2, 6, 7, 3]\n",
      "[0, 1, 2, '-', 1, 2, 6, 7, 4]\n",
      "[0, 1, 2, '-', 1, 2, 6, 7, 5]\n",
      "[0, 1, 2, '-', 1, 2, 7, 3, 4]\n",
      "[0, 1, 2, '-', 1, 2, 7, 3, 5]\n",
      "[0, 1, 2, '-', 1, 2, 7, 3, 6]\n",
      "[0, 1, 2, '-', 1, 2, 7, 4, 3]\n",
      "[0, 1, 2, '-', 1, 2, 7, 4, 5]\n",
      "[0, 1, 2, '-', 1, 2, 7, 4, 6]\n",
      "[0, 1, 2, '-', 1, 2, 7, 5, 3]\n",
      "[0, 1, 2, '-', 1, 2, 7, 5, 4]\n",
      "[0, 1, 2, '-', 1, 2, 7, 5, 6]\n",
      "[0, 1, 2, '-', 1, 2, 7, 6, 3]\n",
      "[0, 1, 2, '-', 1, 2, 7, 6, 4]\n",
      "[0, 1, 2, '-', 1, 2, 7, 6, 5]\n",
      "[0, 1, 2, '-', 1, 3, 2, 4, 5]\n",
      "[0, 1, 2, '-', 1, 3, 2, 4, 6]\n",
      "[0, 1, 2, '-', 1, 3, 2, 4, 7]\n",
      "[0, 1, 2, '-', 1, 3, 2, 5, 4]\n",
      "[0, 1, 2, '-', 1, 3, 2, 5, 6]\n",
      "[0, 1, 2, '-', 1, 3, 2, 5, 7]\n",
      "[0, 1, 2, '-', 1, 3, 2, 6, 4]\n",
      "[0, 1, 2, '-', 1, 3, 2, 6, 5]\n",
      "[0, 1, 2, '-', 1, 3, 2, 6, 7]\n",
      "[0, 1, 2, '-', 1, 3, 2, 7, 4]\n",
      "[0, 1, 2, '-', 1, 3, 2, 7, 5]\n",
      "[0, 1, 2, '-', 1, 3, 2, 7, 6]\n",
      "[0, 1, 2, '-', 1, 3, 4, 2, 5]\n",
      "[0, 1, 2, '-', 1, 3, 4, 2, 6]\n",
      "[0, 1, 2, '-', 1, 3, 4, 2, 7]\n",
      "[0, 1, 2, '-', 1, 3, 4, 5, 2]\n",
      "[0, 1, 2, '-', 1, 3, 4, 5, 6]\n",
      "[0, 1, 2, '-', 1, 3, 4, 5, 7]\n",
      "[0, 1, 2, '-', 1, 3, 4, 6, 2]\n",
      "[0, 1, 2, '-', 1, 3, 4, 6, 5]\n",
      "[0, 1, 2, '-', 1, 3, 4, 6, 7]\n",
      "[0, 1, 2, '-', 1, 3, 4, 7, 2]\n",
      "[0, 1, 2, '-', 1, 3, 4, 7, 5]\n",
      "[0, 1, 2, '-', 1, 3, 4, 7, 6]\n",
      "[0, 1, 2, '-', 1, 3, 5, 2, 4]\n",
      "[0, 1, 2, '-', 1, 3, 5, 2, 6]\n",
      "[0, 1, 2, '-', 1, 3, 5, 2, 7]\n",
      "[0, 1, 2, '-', 1, 3, 5, 4, 2]\n",
      "[0, 1, 2, '-', 1, 3, 5, 4, 6]\n",
      "[0, 1, 2, '-', 1, 3, 5, 4, 7]\n",
      "[0, 1, 2, '-', 1, 3, 5, 6, 2]\n",
      "[0, 1, 2, '-', 1, 3, 5, 6, 4]\n",
      "[0, 1, 2, '-', 1, 3, 5, 6, 7]\n",
      "[0, 1, 2, '-', 1, 3, 5, 7, 2]\n",
      "[0, 1, 2, '-', 1, 3, 5, 7, 4]\n",
      "[0, 1, 2, '-', 1, 3, 5, 7, 6]\n",
      "[0, 1, 2, '-', 1, 3, 6, 2, 4]\n",
      "[0, 1, 2, '-', 1, 3, 6, 2, 5]\n",
      "[0, 1, 2, '-', 1, 3, 6, 2, 7]\n",
      "Count = 100 passwords\n"
     ]
    }
   ],
   "source": [
    "count = 0\n",
    "print(\"First 100 passwords in the sequence. \\n0's pos. # - 7 choose 5 of (1-7)\\n\")\n",
    "for a in range(0,7): # Zero1 starts at list[0]\n",
    "    if(count >= 100):\n",
    "        break\n",
    "    b=a+1\n",
    "    for b in range(0,7): #Zero2 starts at list[1]\n",
    "        if(count >= 100):\n",
    "            break\n",
    "        c=b+1\n",
    "        for c in range(0,8): #Zero3 starts at list[2]\n",
    "            if(count >= 100):\n",
    "                break\n",
    "            if(c > b and b > a):\n",
    "                zeros = list()\n",
    "                zeros.append(a)\n",
    "                zeros.append(b)\n",
    "                zeros.append(c)\n",
    "                zeros.append('-')\n",
    "                count += 1\n",
    "                temp = zeros.copy()\n",
    "                for n1 in range(1,8):\n",
    "                    if(count >= 100):\n",
    "                        break\n",
    "                    temp = zeros.copy()\n",
    "                    temp.append(n1)\n",
    "                    for n2 in range(1,8):\n",
    "                        if(count >= 100):\n",
    "                            break\n",
    "                        temp1 = temp.copy()\n",
    "                        if(n2 != n1):\n",
    "                            temp1.append(n2)\n",
    "                            \n",
    "                        for n3 in range(1,8):\n",
    "                            if(count >= 100):\n",
    "                                break\n",
    "                                \n",
    "                            temp2 = temp1.copy()\n",
    "                            if(n3 != n1 and n3 != n2):\n",
    "                                temp2.append(n3)\n",
    "                            for n4 in range(1,8):\n",
    "                                if(count >= 100):\n",
    "                                    break\n",
    "                                temp3 = temp2.copy()\n",
    "                                if(n4 != n1 and n4 != n2 and n4 != n3):\n",
    "                                    temp3.append(n4)\n",
    "                                for n5 in range(1,8):\n",
    "                                    if(count >= 100):\n",
    "                                        break\n",
    "                                    temp4 = temp3.copy()\n",
    "                                    if(n5 != n1 and n5 != n2 and n5 != n3 and n5 != n4):\n",
    "                                        temp4.append(n5)\n",
    "                                        if(len(temp4) == 9):\n",
    "                                            count+=1\n",
    "                                            print(temp4)\n",
    "                                    if(count >= 100):\n",
    "                                        break                                    \n",
    "                            \n",
    "print(f\"Count = {count} passwords\")\n",
    "                                    "
   ]
  },
  {
   "cell_type": "markdown",
   "id": "brutal-insight",
   "metadata": {},
   "source": [
    "#### c)\n",
    "\n",
    "_Suppose you have a password with m digits required to have exactly n 0’s. The other (m-n) digits can be any number 1-9 but numbers 1-9 may not be repeated. How many unique passwords exist? (Your answer should be a mathematical formula written in terms of m and n.)_\n",
    "\n",
    "unique passwords $= \\frac{m!}{n!(m-n)!} \\cdot \\frac{9!}{(9-m-n)!}, \\ \\ \\      (m-n) <= 9$"
   ]
  }
 ],
 "metadata": {
  "kernelspec": {
   "display_name": "Python 3",
   "language": "python",
   "name": "python3"
  },
  "language_info": {
   "codemirror_mode": {
    "name": "ipython",
    "version": 3
   },
   "file_extension": ".py",
   "mimetype": "text/x-python",
   "name": "python",
   "nbconvert_exporter": "python",
   "pygments_lexer": "ipython3",
   "version": "3.8.5"
  }
 },
 "nbformat": 4,
 "nbformat_minor": 5
}

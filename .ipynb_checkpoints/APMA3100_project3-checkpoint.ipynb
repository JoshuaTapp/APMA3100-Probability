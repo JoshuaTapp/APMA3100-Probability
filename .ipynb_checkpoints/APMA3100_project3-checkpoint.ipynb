{
 "cells": [
  {
   "cell_type": "markdown",
   "id": "prime-category",
   "metadata": {},
   "source": [
    "# Project 3: Drone Delivery\n",
    "\n",
    "### APMA 3100 Probability\n",
    "\n",
    "#### Authors: Sonya Gar.. (i cant remember how its spelled), Joshua Tapp\n"
   ]
  },
  {
   "cell_type": "markdown",
   "id": "serious-issue",
   "metadata": {},
   "source": [
    "## Model Analysis"
   ]
  },
  {
   "cell_type": "code",
   "execution_count": 4,
   "id": "received-cutting",
   "metadata": {},
   "outputs": [],
   "source": [
    "import numpy as np\n",
    "import matplotlib.pyplot as plt\n",
    "from IPython.display import Math, Latex\n",
    "from IPython.core.display import Image\n",
    "import scipy.stats\n",
    "#import Seaborn as sns\n",
    "%matplotlib inline\n",
    "\n",
    "\n",
    "def pdf(a, x):       #pdf of Rayleigh distribution\n",
    "    \n",
    "    if(x > 0):\n",
    "        return ( pow(a, 2) * x * np.exp( -.5*pow(a, 2)* pow(x, 2) ) )\n",
    "    \n",
    "    else:\n",
    "        return 0    # error x <= 0 \n",
    "    \n",
    "def cdf(a, x):       #cdf of Rayleigh distribution\n",
    "    \n",
    "    if(x > 0):\n",
    "        return ( 1 - np.exp( -0.5 * pow( a, 2 ) * pow( x, 2 ) ) ) \n",
    "    \n",
    "    else:\n",
    "        return 0    # error x <= 0\n",
    "\n",
    "def meanRayleigh(a):\n",
    "    return ( ( 1/a ) * np.sqrt( math.pi / 2 ) )\n",
    "\n",
    "def varRayleigh(a):\n",
    "    return ( ( 4 - np.pi ) / ( 2 * pow( a, 2 ) ) )\n",
    "\n",
    "def plotpdf(a):\n",
    "    rng = np.random.default_rng()\n",
    "    mean = meanRayleigh(a)\n",
    "    mode = np.sqrt(2 / np.pi) * mean\n",
    "    \n",
    "    "
   ]
  },
  {
   "cell_type": "markdown",
   "id": "electric-compact",
   "metadata": {},
   "source": [
    "## Law of Large Numbers"
   ]
  },
  {
   "cell_type": "markdown",
   "id": "liked-employment",
   "metadata": {},
   "source": [
    "## Central Limit Theorem"
   ]
  }
 ],
 "metadata": {
  "kernelspec": {
   "display_name": "Python 3",
   "language": "python",
   "name": "python3"
  },
  "language_info": {
   "codemirror_mode": {
    "name": "ipython",
    "version": 3
   },
   "file_extension": ".py",
   "mimetype": "text/x-python",
   "name": "python",
   "nbconvert_exporter": "python",
   "pygments_lexer": "ipython3",
   "version": "3.8.5"
  }
 },
 "nbformat": 4,
 "nbformat_minor": 5
}
